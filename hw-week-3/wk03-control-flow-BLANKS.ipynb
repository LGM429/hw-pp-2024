{
 "cells": [
  {
   "cell_type": "markdown",
   "id": "a50b15cc",
   "metadata": {},
   "source": [
    "## Q. 1\n",
    "You have a dataset that contains temperature data recorded daily over a month for a fictious city. Categorize the temperature into different levels based on the following conditions:\n",
    "\n",
    "- \"Cold\" if the temperature is 50°F and below.\n",
    "- \"Cool\" if the temperature is above 50°F but below 68°F.\n",
    "- \"Warm\" if the temperature is 68°F and above but less than 86°F.\n",
    "- \"Hot\" if the temperature is 86°F and above.\n",
    "\n",
    "Print the result in the format ```Temperature X°F: whatever Category```\n"
   ]
  },
  {
   "cell_type": "code",
   "execution_count": 1,
   "id": "8ac2e955",
   "metadata": {},
   "outputs": [],
   "source": [
    "### dataset of temperatures:\n",
    "\n",
    "temps = [45, 52, 68, 73, 89, 47, 55, 81, 66,\n",
    "         77, 58, 62, 91, 49, 72, 85, 40, 63, 87, 53,\n",
    "         78, 60, 44, 59, 75, 90, 56, 48, 67, 82]\n"
   ]
  },
  {
   "cell_type": "code",
   "execution_count": 6,
   "id": "66c0e600",
   "metadata": {},
   "outputs": [
    {
     "name": "stdout",
     "output_type": "stream",
     "text": [
      "Temperature 45°F: Cold\n",
      "Temperature 52°F: Cool\n",
      "Temperature 68°F: Warm\n",
      "Temperature 73°F: Warm\n",
      "Temperature 89°F: Hot\n",
      "Temperature 47°F: Cold\n",
      "Temperature 55°F: Cool\n",
      "Temperature 81°F: Warm\n",
      "Temperature 66°F: Cool\n",
      "Temperature 77°F: Warm\n",
      "Temperature 58°F: Cool\n",
      "Temperature 62°F: Cool\n",
      "Temperature 91°F: Hot\n",
      "Temperature 49°F: Cold\n",
      "Temperature 72°F: Warm\n",
      "Temperature 85°F: Warm\n",
      "Temperature 40°F: Cold\n",
      "Temperature 63°F: Cool\n",
      "Temperature 87°F: Hot\n",
      "Temperature 53°F: Cool\n",
      "Temperature 78°F: Warm\n",
      "Temperature 60°F: Cool\n",
      "Temperature 44°F: Cold\n",
      "Temperature 59°F: Cool\n",
      "Temperature 75°F: Warm\n",
      "Temperature 90°F: Hot\n",
      "Temperature 56°F: Cool\n",
      "Temperature 48°F: Cold\n",
      "Temperature 67°F: Cool\n",
      "Temperature 82°F: Warm\n"
     ]
    }
   ],
   "source": [
    "## code it here \n",
    "\n",
    "for temp in temps: #for loop\n",
    "    if temp <= 50: # began 'if' conditional statements\n",
    "        print(f\"Temperature {temp}°F: Cold\")\n",
    "    elif 50 < temp < 68:\n",
    "        print(f\"Temperature {temp}°F: Cool\")\n",
    "    elif 68 <= temp < 86:\n",
    "        print(f\"Temperature {temp}°F: Warm\")\n",
    "    else:\n",
    "        print(f\"Temperature {temp}°F: Hot\")"
   ]
  },
  {
   "cell_type": "markdown",
   "id": "ea7e9b9c",
   "metadata": {},
   "source": [
    "## Q. 2\n",
    "\n",
    "Now instead of printing the results, create a list of dictionaries in which each dictionary holds the key-value pairs of ```{\"temp\": temp_value}```"
   ]
  },
  {
   "cell_type": "code",
   "execution_count": 16,
   "id": "0947a342",
   "metadata": {},
   "outputs": [
    {
     "data": {
      "text/plain": [
       "[{'temp': 45},\n",
       " {'temp': 52},\n",
       " {'temp': 68},\n",
       " {'temp': 73},\n",
       " {'temp': 89},\n",
       " {'temp': 47},\n",
       " {'temp': 55},\n",
       " {'temp': 81},\n",
       " {'temp': 66},\n",
       " {'temp': 77},\n",
       " {'temp': 58},\n",
       " {'temp': 62},\n",
       " {'temp': 91},\n",
       " {'temp': 49},\n",
       " {'temp': 72},\n",
       " {'temp': 85},\n",
       " {'temp': 40},\n",
       " {'temp': 63},\n",
       " {'temp': 87},\n",
       " {'temp': 53},\n",
       " {'temp': 78},\n",
       " {'temp': 60},\n",
       " {'temp': 44},\n",
       " {'temp': 59},\n",
       " {'temp': 75},\n",
       " {'temp': 90},\n",
       " {'temp': 56},\n",
       " {'temp': 48},\n",
       " {'temp': 67},\n",
       " {'temp': 82}]"
      ]
     },
     "execution_count": 16,
     "metadata": {},
     "output_type": "execute_result"
    }
   ],
   "source": [
    "## code it here\n",
    "donations = []\n",
    "for temp in temps: #for loop \n",
    "        if temp <= 50: # began 'if' conditional statements\n",
    "           donations.append({\"temp\":temp})\n",
    "        elif 50 < temp < 68:\n",
    "            donations.append({\"temp\":temp})\n",
    "        elif 68 <= temp < 86:\n",
    "            donations.append({\"temp\":temp})\n",
    "        else:\n",
    "            donations.append({\"temp\":temp})\n",
    "donations\n",
    "\n"
   ]
  },
  {
   "cell_type": "code",
   "execution_count": 17,
   "id": "655767bf-f94d-441b-a49c-4cf8564c9f27",
   "metadata": {},
   "outputs": [
    {
     "data": {
      "text/plain": [
       "[{'temp': 45},\n",
       " {'temp': 52},\n",
       " {'temp': 68},\n",
       " {'temp': 73},\n",
       " {'temp': 89},\n",
       " {'temp': 47},\n",
       " {'temp': 55},\n",
       " {'temp': 81},\n",
       " {'temp': 66},\n",
       " {'temp': 77},\n",
       " {'temp': 58},\n",
       " {'temp': 62},\n",
       " {'temp': 91},\n",
       " {'temp': 49},\n",
       " {'temp': 72},\n",
       " {'temp': 85},\n",
       " {'temp': 40},\n",
       " {'temp': 63},\n",
       " {'temp': 87},\n",
       " {'temp': 53},\n",
       " {'temp': 78},\n",
       " {'temp': 60},\n",
       " {'temp': 44},\n",
       " {'temp': 59},\n",
       " {'temp': 75},\n",
       " {'temp': 90},\n",
       " {'temp': 56},\n",
       " {'temp': 48},\n",
       " {'temp': 67},\n",
       " {'temp': 82}]"
      ]
     },
     "execution_count": 17,
     "metadata": {},
     "output_type": "execute_result"
    }
   ],
   "source": [
    "donations"
   ]
  },
  {
   "cell_type": "markdown",
   "id": "46a15fb0",
   "metadata": {},
   "source": [
    "## Q. 3\n",
    "\n",
    "You have several lists that hold related data points. **Dynamically** create a list of dictionaries that hold each as a set of values. For example, your list of dictionaries should look like:\n",
    "\n",
    "```[{\"first_name\": \"Irene\", \"last_name\": \"Rosenfeld\", \"title\": \"Chair and CEO\", \"company\": \"Kraft Foods\", \"industry\": \"Food and Beverage\"}, ...NEXT dictionary]```\n",
    "\n",
    "**Dynamically** means don't manually create the dictionaries. Use programming to create your dictionaries."
   ]
  },
  {
   "cell_type": "code",
   "execution_count": 18,
   "id": "b88860fe",
   "metadata": {},
   "outputs": [],
   "source": [
    "## ##  RUN THIS CELL - \n",
    "## Here we have a list of CEOs and their relevant data points.\n",
    "first_names = [\"Irene\", \"Ursula\", \"Elon\", \"Tim\"]\n",
    "last_names = [\"Rosenfeld\", \"Burns\", \"Musk\", \"Cook\"]\n",
    "titles = [\"Chair and CEO\", \"Chair and CEO\", \"CEO\", \"CEO\"]\n",
    "companies = [\"Kraft Foods\", \"Xerox\", \"Tesla\", \"Apple\"]\n",
    "industries = [\"Food and Beverage\", \"Process and Document Management\",\n",
    "              \"Auto Manufacturing\", \"Consumer Technology\"]"
   ]
  },
  {
   "cell_type": "code",
   "execution_count": 28,
   "id": "49d85a56",
   "metadata": {},
   "outputs": [
    {
     "data": {
      "text/plain": [
       "[{'First_name': 'Irene',\n",
       "  'Last_name': 'Rosenfeld',\n",
       "  'Title': 'Chair and CEO',\n",
       "  'Company': 'Kraft Foods',\n",
       "  'Industry': 'Food and Beverage'},\n",
       " {'First_name': 'Ursula',\n",
       "  'Last_name': 'Burns',\n",
       "  'Title': 'Chair and CEO',\n",
       "  'Company': 'Xerox',\n",
       "  'Industry': 'Process and Document Management'},\n",
       " {'First_name': 'Elon',\n",
       "  'Last_name': 'Musk',\n",
       "  'Title': 'CEO',\n",
       "  'Company': 'Tesla',\n",
       "  'Industry': 'Auto Manufacturing'},\n",
       " {'First_name': 'Tim',\n",
       "  'Last_name': 'Cook',\n",
       "  'Title': 'CEO',\n",
       "  'Company': 'Apple',\n",
       "  'Industry': 'Consumer Technology'}]"
      ]
     },
     "execution_count": 28,
     "metadata": {},
     "output_type": "execute_result"
    }
   ],
   "source": [
    "## code it here\n",
    "ceo_data = []\n",
    "for (first_name, last_name, title, company, industry) in zip(first_names, last_names, titles, companies, industries):\n",
    "    ceo_data.append({\"First_name\": first_name, \"Last_name\": last_name, \"Title\": title, \"Company\": company, \"Industry\": industry})\n",
    "\n",
    "ceo_data\n",
    "    "
   ]
  },
  {
   "cell_type": "code",
   "execution_count": 23,
   "id": "77746a7a-3ecc-44bb-b656-e9026ede6117",
   "metadata": {},
   "outputs": [],
   "source": [
    "import pandas as pd"
   ]
  },
  {
   "cell_type": "code",
   "execution_count": 29,
   "id": "428b43c6-0529-4b2e-a684-d57e7f4376ae",
   "metadata": {},
   "outputs": [
    {
     "data": {
      "text/html": [
       "<div>\n",
       "<style scoped>\n",
       "    .dataframe tbody tr th:only-of-type {\n",
       "        vertical-align: middle;\n",
       "    }\n",
       "\n",
       "    .dataframe tbody tr th {\n",
       "        vertical-align: top;\n",
       "    }\n",
       "\n",
       "    .dataframe thead th {\n",
       "        text-align: right;\n",
       "    }\n",
       "</style>\n",
       "<table border=\"1\" class=\"dataframe\">\n",
       "  <thead>\n",
       "    <tr style=\"text-align: right;\">\n",
       "      <th></th>\n",
       "      <th>First_name</th>\n",
       "      <th>Last_name</th>\n",
       "      <th>Title</th>\n",
       "      <th>Company</th>\n",
       "      <th>Industry</th>\n",
       "    </tr>\n",
       "  </thead>\n",
       "  <tbody>\n",
       "    <tr>\n",
       "      <th>0</th>\n",
       "      <td>Irene</td>\n",
       "      <td>Rosenfeld</td>\n",
       "      <td>Chair and CEO</td>\n",
       "      <td>Kraft Foods</td>\n",
       "      <td>Food and Beverage</td>\n",
       "    </tr>\n",
       "    <tr>\n",
       "      <th>1</th>\n",
       "      <td>Ursula</td>\n",
       "      <td>Burns</td>\n",
       "      <td>Chair and CEO</td>\n",
       "      <td>Xerox</td>\n",
       "      <td>Process and Document Management</td>\n",
       "    </tr>\n",
       "    <tr>\n",
       "      <th>2</th>\n",
       "      <td>Elon</td>\n",
       "      <td>Musk</td>\n",
       "      <td>CEO</td>\n",
       "      <td>Tesla</td>\n",
       "      <td>Auto Manufacturing</td>\n",
       "    </tr>\n",
       "    <tr>\n",
       "      <th>3</th>\n",
       "      <td>Tim</td>\n",
       "      <td>Cook</td>\n",
       "      <td>CEO</td>\n",
       "      <td>Apple</td>\n",
       "      <td>Consumer Technology</td>\n",
       "    </tr>\n",
       "  </tbody>\n",
       "</table>\n",
       "</div>"
      ],
      "text/plain": [
       "  First_name  Last_name          Title      Company  \\\n",
       "0      Irene  Rosenfeld  Chair and CEO  Kraft Foods   \n",
       "1     Ursula      Burns  Chair and CEO        Xerox   \n",
       "2       Elon       Musk            CEO        Tesla   \n",
       "3        Tim       Cook            CEO        Apple   \n",
       "\n",
       "                          Industry  \n",
       "0                Food and Beverage  \n",
       "1  Process and Document Management  \n",
       "2               Auto Manufacturing  \n",
       "3              Consumer Technology  "
      ]
     },
     "execution_count": 29,
     "metadata": {},
     "output_type": "execute_result"
    }
   ],
   "source": [
    "df = pd.DataFrame(ceo_data)\n",
    "df"
   ]
  },
  {
   "cell_type": "code",
   "execution_count": null,
   "id": "c85f917e-a379-4979-916c-89335de9bc8d",
   "metadata": {},
   "outputs": [],
   "source": []
  }
 ],
 "metadata": {
  "kernelspec": {
   "display_name": "Python 3 (ipykernel)",
   "language": "python",
   "name": "python3"
  },
  "language_info": {
   "codemirror_mode": {
    "name": "ipython",
    "version": 3
   },
   "file_extension": ".py",
   "mimetype": "text/x-python",
   "name": "python",
   "nbconvert_exporter": "python",
   "pygments_lexer": "ipython3",
   "version": "3.12.2"
  }
 },
 "nbformat": 4,
 "nbformat_minor": 5
}
