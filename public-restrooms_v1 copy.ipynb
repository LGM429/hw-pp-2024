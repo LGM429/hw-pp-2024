{
 "cells": [
  {
   "cell_type": "code",
   "execution_count": null,
   "id": "f296044e-12dd-4adf-bfd1-0a92ea05d449",
   "metadata": {},
   "outputs": [],
   "source": [
    "import geopandas as gpd\n",
    "import matplotlib.pyplot as plt\n",
    "import matplotlib as mpl\n",
    "from sklearn.cluster import KMeans\n",
    "import pandas as pd\n",
    "import requests\n",
    "import glob"
   ]
  },
  {
   "cell_type": "code",
   "execution_count": null,
   "id": "22dd49b1-e197-445b-b3e4-263e5d9e8569",
   "metadata": {},
   "outputs": [],
   "source": [
    "gdf = gpd.read_file(\"New-York-City-Official-Public-Restrooms-Map.kml\") \n"
   ]
  },
  {
   "cell_type": "code",
   "execution_count": null,
   "id": "179e1e03-04e3-428b-9e0c-acd201006f39",
   "metadata": {},
   "outputs": [],
   "source": [
    "gdf.plot()\n",
    "plt.show()"
   ]
  },
  {
   "cell_type": "code",
   "execution_count": null,
   "id": "01b26a2a-45e0-4f69-9741-0c7d0a28e310",
   "metadata": {},
   "outputs": [],
   "source": [
    "gdf2 = gpd.read_file(\"new-york-city-boroughs.geojson\")"
   ]
  },
  {
   "cell_type": "code",
   "execution_count": null,
   "id": "08c105b5-0491-472a-9e56-3d0ad712d45a",
   "metadata": {
    "scrolled": true
   },
   "outputs": [],
   "source": [
    "gdf2.plot()\n",
    "plt.show() "
   ]
  },
  {
   "cell_type": "code",
   "execution_count": null,
   "id": "e7c02b3a-f812-4d1a-bf39-5b9bc7191189",
   "metadata": {
    "scrolled": true
   },
   "outputs": [],
   "source": [
    "!pip install contextily"
   ]
  },
  {
   "cell_type": "code",
   "execution_count": null,
   "id": "ddb410d4-d5fa-4c5d-a6c8-19b42d544581",
   "metadata": {},
   "outputs": [],
   "source": [
    "import contextily as cx"
   ]
  },
  {
   "cell_type": "code",
   "execution_count": null,
   "id": "9ecb1a1f-86cd-4752-8d9a-817b762814d1",
   "metadata": {},
   "outputs": [],
   "source": [
    "df_wm = gdf.to_crs(epsg=3857)"
   ]
  },
  {
   "cell_type": "code",
   "execution_count": null,
   "id": "444fb2d2-2527-4e95-8784-d182af65c4bd",
   "metadata": {},
   "outputs": [],
   "source": [
    "ax = df_wm.plot(figsize=(8, 8), alpha=.4, edgecolor=\"b\")\n",
    "cx.add_basemap(ax)"
   ]
  },
  {
   "cell_type": "code",
   "execution_count": null,
   "id": "bdfc5c35-fb67-421c-9694-36bc4b9c9428",
   "metadata": {
    "scrolled": true
   },
   "outputs": [],
   "source": [
    "gdf"
   ]
  },
  {
   "cell_type": "code",
   "execution_count": null,
   "id": "32502dfe-602e-478a-af84-b51c954200e3",
   "metadata": {},
   "outputs": [],
   "source": [
    "pd.set_option('display.max_colwidth', None)\n",
    "pd.set_option('display.max_rows', None)\n",
    "pd.set_option('display.max_columns', None)\n",
    "pd.set_option('display.width', None)"
   ]
  },
  {
   "cell_type": "code",
   "execution_count": null,
   "id": "33445001-0bac-44ae-b067-655fd3500c99",
   "metadata": {
    "scrolled": true
   },
   "outputs": [],
   "source": [
    "gdf"
   ]
  },
  {
   "cell_type": "code",
   "execution_count": null,
   "id": "37301131-1765-4f4a-aae2-395fac8f9298",
   "metadata": {
    "scrolled": true
   },
   "outputs": [],
   "source": [
    "gdf['Description']"
   ]
  },
  {
   "cell_type": "code",
   "execution_count": null,
   "id": "168d67c7-63fd-4e19-8c29-743b45b1bd2a",
   "metadata": {},
   "outputs": [],
   "source": [
    "gdf3 = gpd.read_file(\"ZillowNeighborhoods-NY.shp\")"
   ]
  },
  {
   "cell_type": "code",
   "execution_count": null,
   "id": "68370d7b-a0a0-40e9-94a4-18ac1845d3ef",
   "metadata": {
    "scrolled": true
   },
   "outputs": [],
   "source": [
    "gdf3.head()"
   ]
  },
  {
   "cell_type": "code",
   "execution_count": null,
   "id": "f76ca636-4bc5-4d90-8513-bea2a91ef22b",
   "metadata": {},
   "outputs": [],
   "source": [
    "neighborhoods = gdf3.loc[lambda x: x['City'] == 'New York']"
   ]
  },
  {
   "cell_type": "code",
   "execution_count": null,
   "id": "66e2e3f2-1806-45e3-ae91-9bad4dee6b5d",
   "metadata": {
    "scrolled": true
   },
   "outputs": [],
   "source": [
    "neighborhoods"
   ]
  },
  {
   "cell_type": "code",
   "execution_count": null,
   "id": "4f11924a-c73a-431d-8370-ebbbb75a71d3",
   "metadata": {},
   "outputs": [],
   "source": [
    "## use regex to target the info and create a new df with all t hat.\n",
    "# turn the str into categories\n",
    "# turn the columns into numbers that represent the categories\n",
    "# we do that (not in Kmeans) with the spy planes\n",
    "# might have to normalize the categories -- some have 10 options, some have 5, they should be on same scale"
   ]
  },
  {
   "cell_type": "code",
   "execution_count": null,
   "id": "11828aad-13b5-4d68-b0f9-8f2865db891a",
   "metadata": {},
   "outputs": [],
   "source": [
    "## Joins\n",
    "## bathroom = pointsdf\n",
    "## neighborhoods = polydf\n",
    "## value count neighborhood"
   ]
  },
  {
   "cell_type": "code",
   "execution_count": null,
   "id": "a8e979ce-f764-495e-9324-463eda738865",
   "metadata": {},
   "outputs": [],
   "source": [
    "import re"
   ]
  },
  {
   "cell_type": "code",
   "execution_count": null,
   "id": "2a35e499-1a33-4c10-9d35-5a74f16a7f55",
   "metadata": {},
   "outputs": [],
   "source": [
    "## below I used AI to help me with the Def code."
   ]
  },
  {
   "cell_type": "code",
   "execution_count": null,
   "id": "bdd22250-577b-4098-87c9-3490cd50c5a5",
   "metadata": {},
   "outputs": [],
   "source": [
    "# Sample 'Description' text\n",
    "# Assuming your 'gdf' already contains the 'Description' column\n",
    "description_example = \"\"\"\n",
    "Unique Name: Aqueduct Walk Zone 2 (Parks2073)<br>Location Type: Park<br>Operator: NYC Parks<br>Open: Year Round<br>Hours of Operation: 8am-4pm, Open later seasonally<br>Accessibility: Fully Accessible<br>Restroom Type: Multi-Stall W/M Restrooms<br>Changing Stations: <br>Additional Notes: <br>Website: <br>Latitude: 40.858411<br>Longitude: -73.907994<br>Status: Operational\n",
    "\"\"\"\n",
    "\n",
    "# Define the function to extract values from the 'Description' text\n",
    "def extract_info(description):\n",
    "    info = {}\n",
    "    \n",
    "    # Define regex patterns for each field\n",
    "    patterns = {\n",
    "        \"Unique Name\": r\"Unique Name:\\s*(.*?)<br>\",\n",
    "        \"Location Type\": r\"Location Type:\\s*(.*?)<br>\",\n",
    "        \"Operator\": r\"Operator:\\s*(.*?)<br>\",\n",
    "        \"Open\": r\"Open:\\s*(.*?)<br>\",\n",
    "        \"Hours of Operation\": r\"Hours of Operation:\\s*(.*?)<br>\",\n",
    "        \"Accessibility\": r\"Accessibility:\\s*(.*?)<br>\",\n",
    "        \"Restroom Type\": r\"Restroom Type:\\s*(.*?)<br>\",\n",
    "        \"Latitude\": r\"Latitude:\\s*([-\\d.]+)<br>\",\n",
    "        \"Longitude\": r\"Longitude:\\s*([-\\d.]+)<br>\",\n",
    "        \"Status\": r\"Status:\\s*(.*?)<br>\",\n",
    "    }\n",
    "    \n",
    "    # Loop through the patterns and extract the information\n",
    "    for key, pattern in patterns.items():\n",
    "        match = re.search(pattern, description)\n",
    "        if match:\n",
    "            info[key] = match.group(1)\n",
    "        else:\n",
    "            info[key] = None  # If no match, assign None (or you could assign an empty string, depending on your preference)\n",
    "    \n",
    "    return info\n",
    "\n",
    "# Apply the function to the 'Description' column and create new columns\n",
    "extracted_info = gdf['Description'].apply(extract_info)\n",
    "\n",
    "# Expand the dictionary into new columns in the GeoDataFrame\n",
    "gdf = pd.concat([gdf, extracted_info.apply(pd.Series)], axis=1)\n",
    "\n",
    "# Now gdf will have new columns like \"Unique Name\", \"Location Type\", \"Operator\", etc.\n"
   ]
  },
  {
   "cell_type": "code",
   "execution_count": null,
   "id": "7106aff9-6717-4c0d-8a84-0cc491eb0e7a",
   "metadata": {
    "scrolled": true
   },
   "outputs": [],
   "source": [
    "gdf"
   ]
  },
  {
   "cell_type": "code",
   "execution_count": null,
   "id": "1342ae3f-3b53-44ed-bd8b-babaeedf61ec",
   "metadata": {},
   "outputs": [],
   "source": [
    "gdf.drop('Description', axis=1, inplace=True)"
   ]
  },
  {
   "cell_type": "code",
   "execution_count": null,
   "id": "e725b75d-543a-4e1c-aad3-a90c64252291",
   "metadata": {
    "scrolled": true
   },
   "outputs": [],
   "source": [
    "gdf"
   ]
  },
  {
   "cell_type": "code",
   "execution_count": null,
   "id": "3b0a97fc-63da-4b62-b114-8136d7589752",
   "metadata": {},
   "outputs": [],
   "source": [
    "gdf.drop('Status', axis=1, inplace=True)"
   ]
  },
  {
   "cell_type": "code",
   "execution_count": null,
   "id": "4cc9d3db-0bce-4bce-afc4-e2e8ca86caeb",
   "metadata": {
    "scrolled": true
   },
   "outputs": [],
   "source": [
    "gdf"
   ]
  },
  {
   "cell_type": "code",
   "execution_count": null,
   "id": "ab8f7149-b52e-48f4-bc92-30be8e7c4b05",
   "metadata": {},
   "outputs": [],
   "source": [
    "gdf.drop(\"Unique Name\", axis=1, inplace=True)"
   ]
  },
  {
   "cell_type": "code",
   "execution_count": null,
   "id": "eb5f5e22-4b94-4d40-8355-4349a3eaa969",
   "metadata": {
    "scrolled": true
   },
   "outputs": [],
   "source": [
    "gdf"
   ]
  },
  {
   "cell_type": "code",
   "execution_count": null,
   "id": "b7a80a5c-7588-4777-aa12-ce99a7a4ac9f",
   "metadata": {
    "scrolled": true
   },
   "outputs": [],
   "source": [
    "# Apply One-Hot Encoding to categorical columns (Nominal)\n",
    "categorical_cols = ['Location Type', 'Operator', 'Restroom Type', 'Hours of Operation']\n",
    "\n",
    "# Use pd.get_dummies to create binary columns\n",
    "gdf_encoded = pd.get_dummies(gdf, columns=categorical_cols, drop_first=True)  # drop_first to avoid dummy variable trap\n",
    "\n",
    "# Check the new DataFrame\n",
    "gdf_encoded.head()\n"
   ]
  },
  {
   "cell_type": "code",
   "execution_count": null,
   "id": "05e6dbb8-96ad-4735-a58b-745409c797f4",
   "metadata": {},
   "outputs": [],
   "source": [
    "from sklearn.preprocessing import LabelEncoder\n",
    "\n",
    "# Apply Label Encoding for Ordinal columns\n",
    "ordinal_cols = ['Open', 'Accessibility']\n",
    "\n",
    "# Initialize the encoder\n",
    "label_encoder = LabelEncoder()\n",
    "\n",
    "# Apply label encoding to each ordinal column\n",
    "for col in ordinal_cols:\n",
    "    gdf_encoded[col] = label_encoder.fit_transform(gdf_encoded[col])\n",
    "\n",
    "# Check the encoded DataFrame\n",
    "gdf_encoded.head()\n"
   ]
  },
  {
   "cell_type": "code",
   "execution_count": null,
   "id": "ee95e27f-7e85-4554-a362-a664453b4cfc",
   "metadata": {},
   "outputs": [],
   "source": [
    "from sklearn.preprocessing import StandardScaler\n",
    "\n",
    "# Normalize the numeric columns (Latitude and Longitude are already numeric, but others will need normalization)\n",
    "scaler = StandardScaler()\n",
    "\n",
    "# List of columns to normalize (you can add more if needed)\n",
    "numeric_cols = ['Latitude', 'Longitude', 'Open', 'Accessibility']\n",
    "\n",
    "# Apply the scaler to the selected numeric columns\n",
    "gdf_encoded[numeric_cols] = scaler.fit_transform(gdf_encoded[numeric_cols])\n",
    "\n",
    "# Check the scaled DataFrame\n",
    "gdf_encoded.head()\n"
   ]
  },
  {
   "cell_type": "code",
   "execution_count": null,
   "id": "40b23e4e-0b2b-4bee-9f4a-52c31e85309c",
   "metadata": {
    "scrolled": true
   },
   "outputs": [],
   "source": [
    "from sklearn.cluster import KMeans\n",
    "\n",
    "# Assuming you want to cluster based on the encoded features:\n",
    "X = gdf_encoded.drop(['Latitude', 'Longitude'], axis=1)  # Drop latitude and longitude if you're not clustering based on location\n",
    "\n",
    "# Initialize KMeans\n",
    "kmeans = KMeans(n_clusters=3)  # Choose the number of clusters (adjust n_clusters as needed)\n",
    "\n",
    "# Fit the model\n",
    "kmeans.fit(X)\n",
    "\n",
    "# Assign the cluster labels back to the original DataFrame\n",
    "gdf_encoded['Cluster'] = kmeans.labels_\n",
    "\n",
    "# Check the final DataFrame with clusters\n",
    "gdf_encoded.head()\n"
   ]
  },
  {
   "cell_type": "code",
   "execution_count": null,
   "id": "429ad72a-d72c-42e6-90d4-51e98f9b713d",
   "metadata": {},
   "outputs": [],
   "source": [
    "# Drop any non-numeric columns (e.g., 'Unique Name', 'Description', 'Status')\n",
    "X = gdf_encoded.select_dtypes(include=[float, int])  # Keep only numeric columns\n",
    "\n"
   ]
  },
  {
   "cell_type": "code",
   "execution_count": null,
   "id": "fcd78f7d-02da-4c66-8987-a99f78493a41",
   "metadata": {
    "scrolled": true
   },
   "outputs": [],
   "source": [
    "from sklearn.cluster import KMeans\n",
    "\n",
    "# Initialize KMeans (adjust the number of clusters as needed)\n",
    "kmeans = KMeans(n_clusters=5, random_state=42)  # Set the desired number of clusters\n",
    "\n",
    "# Fit the model to the numeric-only data\n",
    "kmeans.fit(X)\n",
    "\n",
    "# Add the cluster labels to the DataFrame\n",
    "gdf_encoded['Cluster'] = kmeans.labels_\n",
    "\n",
    "# Check the result\n",
    "gdf_encoded.head()"
   ]
  },
  {
   "cell_type": "code",
   "execution_count": null,
   "id": "19a76ec8-9d07-4d36-92ed-3dd9475e23c7",
   "metadata": {},
   "outputs": [],
   "source": [
    "# Ensure that all GeoDataFrames are in EPSG:3857 for compatibility with contextily basemap\n",
    "df_wm = gdf_encoded.to_crs(epsg=3857)         # K-Means clustered data\n",
    "neighborhoods_wm = neighborhoods.to_crs(epsg=3857)  # NYC neighborhoods\n",
    "gdf2_wm = gdf2.to_crs(epsg=3857)      # Public bathrooms\n",
    "\n",
    "# Create the plot and set the figure size\n",
    "fig, ax = plt.subplots(figsize=(10, 10))\n",
    "\n",
    "# Step 1: Plot NYC map (basemap)\n",
    "df_wm.plot(ax=ax, alpha=0.4, edgecolor=\"blue\")\n",
    "\n",
    "# Step 2: Plot the neighborhoods polygons (boundary of each neighborhood)\n",
    "neighborhoods_wm.plot(ax=ax, facecolor='none', edgecolor='red', linewidth=1, label=\"Neighborhood Boundaries\")\n",
    "\n",
    "# Step 3: Plot the public bathroom locations (gdf2)\n",
    "#gdf2_wm.plot(ax=ax, color='clear', markersize=20, label=\"Public Bathrooms\")\n",
    "\n",
    "# Step 4: Plot the K-Means clustered data\n",
    "df_wm.plot(ax=ax, column='Cluster', cmap='viridis', legend=True, alpha=0.6, edgecolor='black', label=\"K-Means Clusters\")\n",
    "\n",
    "# Step 5: Add basemap from contextily\n",
    "cx.add_basemap(ax, crs=df_wm.crs.to_string())\n",
    "\n",
    "# Set plot title\n",
    "ax.set_title('NYC Map with K-Means Clusters, Neighborhoods, and Public Bathrooms', fontsize=15)\n",
    "\n",
    "# Add a legend for all layers\n",
    "ax.legend(loc='upper left', fontsize=10)\n",
    "\n",
    "# Show the plot\n",
    "plt.show()\n"
   ]
  },
  {
   "cell_type": "code",
   "execution_count": null,
   "id": "0517e8cb-067a-4df6-b51a-469f324c1c81",
   "metadata": {},
   "outputs": [],
   "source": [
    "from sklearn.cluster import KMeans\n",
    "\n",
    "# Assuming your gdf (or gdf_encoded) is ready for clustering and you've already dropped unnecessary columns\n",
    "# Perform KMeans clustering\n",
    "kmeans = KMeans(n_clusters=3)  # You can adjust n_clusters as needed\n",
    "gdf['Cluster'] = kmeans.fit_predict(gdf[['Latitude', 'Longitude']])  # Use the appropriate columns for clustering\n",
    "\n",
    "# Check if the 'Cluster' column was created\n",
    "print(gdf.columns)\n"
   ]
  },
  {
   "cell_type": "code",
   "execution_count": null,
   "id": "896b4ff1-2d54-4ef1-8c54-51b995ad74dc",
   "metadata": {},
   "outputs": [],
   "source": [
    "# Plot the neighborhoods with thicker red lines (adjust linewidth and color)\n",
    "neighborhoods_wm.plot(ax=ax, facecolor='none', edgecolor='red', linewidth=2, label=\"Neighborhood Boundaries\")\n"
   ]
  },
  {
   "cell_type": "code",
   "execution_count": null,
   "id": "5681e9bf-1e43-4656-90ca-805a0616df4b",
   "metadata": {},
   "outputs": [],
   "source": [
    "#ax.set_xlim([-8245000, -8230000])  # Adjust to proper NYC bounds\n",
    "#ax.set_ylim([4970000, 4975000]) "
   ]
  },
  {
   "cell_type": "code",
   "execution_count": null,
   "id": "aeaf1e96-8c2b-4760-b8cd-2a15328545d6",
   "metadata": {
    "scrolled": true
   },
   "outputs": [],
   "source": [
    "gdf_encoded"
   ]
  },
  {
   "cell_type": "code",
   "execution_count": null,
   "id": "50a80512-cd87-492b-9697-2ce1fa3e3abe",
   "metadata": {},
   "outputs": [],
   "source": [
    "gdf_sorted = gdf_encoded.sort_values(by=\"Cluster\")"
   ]
  },
  {
   "cell_type": "code",
   "execution_count": null,
   "id": "aa258db5-7d19-465e-9185-f15425d59223",
   "metadata": {
    "scrolled": true
   },
   "outputs": [],
   "source": [
    "gdf_sorted"
   ]
  },
  {
   "cell_type": "code",
   "execution_count": null,
   "id": "4bff291b-5cfc-4ef6-9609-35366c5e739a",
   "metadata": {
    "scrolled": true
   },
   "outputs": [],
   "source": [
    "cluster_col = gdf_sorted.pop('Cluster')\n",
    "\n",
    "# Insert 'Cluster' column at the front (index 0)\n",
    "gdf_sorted.insert(0, 'Cluster', cluster_col)\n",
    "\n",
    "# Check the new column order\n",
    "gdf_sorted"
   ]
  },
  {
   "cell_type": "code",
   "execution_count": null,
   "id": "96063c5c-2ea4-4fc5-b1f7-662522803521",
   "metadata": {},
   "outputs": [],
   "source": [
    "cluster_range = range(1, 11)  # Test clusters from 1 to 10 (adjust as needed)\n",
    "\n",
    "# List to store the inertia (WCSS) for each K\n",
    "inertia = []\n",
    "\n",
    "# Loop through different cluster numbers\n",
    "for k in cluster_range:\n",
    "    kmeans = KMeans(n_clusters=k, random_state=42)\n",
    "    kmeans.fit(gdf[['Latitude', 'Longitude']])  # Use appropriate columns (latitude, longitude)\n",
    "    inertia.append(kmeans.inertia_)  # Append the inertia value for each k\n",
    "\n",
    "# Plot the elbow curve\n",
    "plt.figure(figsize=(8, 6))\n",
    "plt.plot(cluster_range, inertia, marker='o', linestyle='-', color='b')\n",
    "plt.title('Elbow Method for Optimal Clusters')\n",
    "plt.xlabel('Number of Clusters')\n",
    "plt.ylabel('Inertia (WCSS)')\n",
    "plt.grid(True)\n",
    "plt.show()"
   ]
  },
  {
   "cell_type": "code",
   "execution_count": null,
   "id": "9a14af2c-22e6-4dfb-aefd-0d630efbf5c3",
   "metadata": {},
   "outputs": [],
   "source": [
    "gdf_sorted.to_csv(\"bathrooms_sorted.csv\", encoding=\"UTF-8\")"
   ]
  },
  {
   "cell_type": "code",
   "execution_count": null,
   "id": "17814e0b-0cf6-4dcd-94af-f9e4f747c4fc",
   "metadata": {
    "scrolled": true
   },
   "outputs": [],
   "source": [
    "gdf_encoded"
   ]
  },
  {
   "cell_type": "code",
   "execution_count": null,
   "id": "1658c685-ad2d-43a6-88c9-84bea5cd962f",
   "metadata": {},
   "outputs": [],
   "source": [
    "gdf_encoded.to_csv(\"5-cluster-bathrooms-nyc.csv\", encoding=\"UTF-8\")"
   ]
  },
  {
   "cell_type": "code",
   "execution_count": null,
   "id": "cf2b7df8-a055-4dae-bfec-0a38e7f2a9ee",
   "metadata": {},
   "outputs": [],
   "source": []
  }
 ],
 "metadata": {
  "kernelspec": {
   "display_name": "Python 3 (ipykernel)",
   "language": "python",
   "name": "python3"
  },
  "language_info": {
   "codemirror_mode": {
    "name": "ipython",
    "version": 3
   },
   "file_extension": ".py",
   "mimetype": "text/x-python",
   "name": "python",
   "nbconvert_exporter": "python",
   "pygments_lexer": "ipython3",
   "version": "3.12.2"
  }
 },
 "nbformat": 4,
 "nbformat_minor": 5
}
